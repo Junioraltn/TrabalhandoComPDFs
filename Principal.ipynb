{
  "cells": [
    {
      "cell_type": "code",
      "execution_count": null,
      "metadata": {
        "id": "uq9Dabaa4Nh0"
      },
      "outputs": [],
      "source": [
        "import os\n",
        "import getpass"
      ]
    },
    {
      "cell_type": "code",
      "execution_count": null,
      "metadata": {
        "id": "4IRdLoL84Nh_"
      },
      "outputs": [],
      "source": [
        "user_name = getpass.getuser()\n",
        "\n",
        "path = f\"C:\\\\Users\\\\{user_name}\\\\Desktop\\\\Digitalizacao\"\n",
        "\n",
        "# Lista de pastas no diretório\n",
        "pastas = os.listdir(path)"
      ]
    },
    {
      "cell_type": "code",
      "execution_count": null,
      "metadata": {
        "id": "zSh5SFR64NiD"
      },
      "outputs": [],
      "source": [
        "for pasta in pastas:\n",
        "    pasta_path_antiga = os.path.join(path, pasta)\n",
        "    if (\" \" in pasta) and (os.path.isdir(pasta_path_antiga)):\n",
        "        # Novo nome da pasta\n",
        "        novo_nome = pasta.replace(\" \",\"_\")\n",
        "        pasta_path_nova = os.path.join(path, novo_nome)\n",
        "        # Renomear a pasta\n",
        "        os.rename(pasta_path_antiga, pasta_path_nova)\n",
        "\n",
        "print(\"Pastas renomeadas com sucesso!\")"
      ]
    },
    {
      "cell_type": "code",
      "execution_count": null,
      "metadata": {
        "id": "NnzVAmfu4NiF"
      },
      "outputs": [],
      "source": [
        "pastas = [item for item in pastas if os.path.isdir(os.path.join(path, item))]"
      ]
    },
    {
      "cell_type": "code",
      "execution_count": null,
      "metadata": {
        "id": "YYdL2DYE4NiH"
      },
      "outputs": [],
      "source": [
        "for index, nome in enumerate(pastas):\n",
        "    pastas[index] = nome.replace(\" \",\"_\")"
      ]
    },
    {
      "cell_type": "code",
      "execution_count": null,
      "metadata": {
        "id": "oOyPoTCt4NiJ"
      },
      "outputs": [],
      "source": [
        "import PyPDF2"
      ]
    },
    {
      "cell_type": "code",
      "execution_count": null,
      "metadata": {
        "id": "4i7nv-Rx4NiM"
      },
      "outputs": [],
      "source": [
        "import re"
      ]
    },
    {
      "cell_type": "code",
      "execution_count": null,
      "metadata": {
        "id": "RBBrDo0u4NiO"
      },
      "outputs": [],
      "source": [
        "intervalo = re.compile(r'\\((.*?)\\)')"
      ]
    },
    {
      "cell_type": "code",
      "execution_count": null,
      "metadata": {
        "id": "TlHGRmrh4NiP"
      },
      "outputs": [],
      "source": [
        "numerosRx = re.compile(r'\\d+')"
      ]
    },
    {
      "cell_type": "code",
      "execution_count": null,
      "metadata": {
        "id": "cyurzEmK4NiP"
      },
      "outputs": [],
      "source": [
        "# Armazenar os arquivos e seus números em listas separadas\n",
        "arquivos = []\n",
        "numeros = []"
      ]
    },
    {
      "cell_type": "code",
      "source": [
        "def UnirPDF(path,nome,principal):# (Modificado)\n",
        "\n",
        "    lista = os.listdir(path)# Obtem a lista de arquivos no diretório especificado.\n",
        "\n",
        "    # Armazenar os arquivos e seus números em listas separadas\n",
        "    arquivos = []\n",
        "    numeros = []\n",
        "\n",
        "    for arquivo in lista:\n",
        "\n",
        "        if arquivo.endswith(\".pdf\"):\n",
        "\n",
        "            arquivos.append(arquivo)\n",
        "\n",
        "            if \"(\" in arquivo:\n",
        "\n",
        "                paginas = intervalo.findall(arquivo)# Pega os valores entre \"(  )\"\n",
        "\n",
        "                if \"-\" in arquivo:# Verifica se tem intervalo\n",
        "\n",
        "                    numero = int(numerosRx.findall(arquivo)[0])# Pega os numéros\n",
        "                    numeros.append(numero)\n",
        "\n",
        "                else:\n",
        "                     numeros.append(int(paginas[0]))\n",
        "            else:\n",
        "                if \"capa\" in arquivo:\n",
        "                    numeros.append(0)\n",
        "\n",
        "    # Ordenar os arquivos com base nos números extraídos\n",
        "    arquivos_ordenados = [x for _, x in sorted(zip(numeros, arquivos))]\n",
        "\n",
        "    # Unir os PDFs na ordem específica\n",
        "    unir = PyPDF2.PdfMerger()\n",
        "\n",
        "    for arquivo in arquivos_ordenados:\n",
        "        arquivo_path = os.path.join(path, arquivo)# Cria o caminho completo do arquivo PDF atual\n",
        "        unir.append(arquivo_path)\n",
        "\n",
        "    # Salvar o PDF final unido no mesmo diretório\n",
        "    output_path = os.path.join(principal, f\"{nome}.pdf\")\n",
        "\n",
        "    # Salvar o PDF final unido\n",
        "    with open(output_path, \"wb\") as out_file:\n",
        "      unir.write(out_file)\n",
        "\n",
        "    print(\"PDFs unidos com sucesso!\")"
      ],
      "metadata": {
        "id": "IGOs5eIeTe5n"
      },
      "execution_count": null,
      "outputs": []
    },
    {
      "cell_type": "code",
      "execution_count": null,
      "metadata": {
        "id": "B0FkdzIc4NiR"
      },
      "outputs": [],
      "source": [
        "for processo in pastas:\n",
        "    path2 = os.path.join(path, processo)\n",
        "    UnirPDF(path2,processo,path)"
      ]
    }
  ],
  "metadata": {
    "kernelspec": {
      "display_name": "Python 3",
      "language": "python",
      "name": "python3"
    },
    "language_info": {
      "codemirror_mode": {
        "name": "ipython",
        "version": 3
      },
      "file_extension": ".py",
      "mimetype": "text/x-python",
      "name": "python",
      "nbconvert_exporter": "python",
      "pygments_lexer": "ipython3",
      "version": "3.13.2"
    },
    "colab": {
      "provenance": []
    }
  },
  "nbformat": 4,
  "nbformat_minor": 0
}